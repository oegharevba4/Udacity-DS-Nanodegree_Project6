{
 "cells": [
  {
   "cell_type": "markdown",
   "metadata": {},
   "source": [
    "# Capstone Project: Create a Customer Segmentation Report for Arvato Financial Services\n",
    "\n",
    "In this project, you will analyze demographics data for customers of a mail-order sales company in Germany, comparing it against demographics information for the general population. You'll use unsupervised learning techniques to perform customer segmentation, identifying the parts of the population that best describe the core customer base of the company. Then, you'll apply what you've learned on a third dataset with demographics information for targets of a marketing campaign for the company, and use a model to predict which individuals are most likely to convert into becoming customers for the company. The data that you will use has been provided by our partners at Bertelsmann Arvato Analytics, and represents a real-life data science task.\n",
    "\n",
    "If you completed the first term of this program, you will be familiar with the first part of this project, from the unsupervised learning project. The versions of those two datasets used in this project will include many more features and has not been pre-cleaned. You are also free to choose whatever approach you'd like to analyzing the data rather than follow pre-determined steps. In your work on this project, make sure that you carefully document your steps and decisions, since your main deliverable for this project will be a blog post reporting your findings."
   ]
  },
  {
   "cell_type": "code",
   "execution_count": 1,
   "metadata": {},
   "outputs": [],
   "source": [
    "# import libraries here; add more as necessary\n",
    "import numpy as np\n",
    "import pandas as pd\n",
    "import matplotlib.pyplot as plt\n",
    "import seaborn as sns\n",
    "\n",
    "\n",
    "from sklearn.experimental import enable_iterative_imputer\n",
    "from sklearn.impute import IterativeImputer\n",
    "from sklearn.pipeline import FeatureUnion, Pipeline\n",
    "from sklearn.preprocessing import StandardScaler\n",
    "\n",
    "# magic word for producing visualizations in notebook\n",
    "%matplotlib inline"
   ]
  },
  {
   "cell_type": "markdown",
   "metadata": {},
   "source": [
    "## Part 0: Get to Know the Data\n",
    "\n",
    "There are four data files associated with this project:\n",
    "\n",
    "- `Udacity_AZDIAS_052018.csv`: Demographics data for the general population of Germany; 891 211 persons (rows) x 366 features (columns).\n",
    "- `Udacity_CUSTOMERS_052018.csv`: Demographics data for customers of a mail-order company; 191 652 persons (rows) x 369 features (columns).\n",
    "- `Udacity_MAILOUT_052018_TRAIN.csv`: Demographics data for individuals who were targets of a marketing campaign; 42 982 persons (rows) x 367 (columns).\n",
    "- `Udacity_MAILOUT_052018_TEST.csv`: Demographics data for individuals who were targets of a marketing campaign; 42 833 persons (rows) x 366 (columns).\n",
    "\n",
    "Each row of the demographics files represents a single person, but also includes information outside of individuals, including information about their household, building, and neighborhood. Use the information from the first two files to figure out how customers (\"CUSTOMERS\") are similar to or differ from the general population at large (\"AZDIAS\"), then use your analysis to make predictions on the other two files (\"MAILOUT\"), predicting which recipients are most likely to become a customer for the mail-order company.\n",
    "\n",
    "The \"CUSTOMERS\" file contains three extra columns ('CUSTOMER_GROUP', 'ONLINE_PURCHASE', and 'PRODUCT_GROUP'), which provide broad information about the customers depicted in the file. The original \"MAILOUT\" file included one additional column, \"RESPONSE\", which indicated whether or not each recipient became a customer of the company. For the \"TRAIN\" subset, this column has been retained, but in the \"TEST\" subset it has been removed; it is against that withheld column that your final predictions will be assessed in the Kaggle competition.\n",
    "\n",
    "Otherwise, all of the remaining columns are the same between the three data files. For more information about the columns depicted in the files, you can refer to two Excel spreadsheets provided in the workspace. [One of them](./DIAS Information Levels - Attributes 2017.xlsx) is a top-level list of attributes and descriptions, organized by informational category. [The other](./DIAS Attributes - Values 2017.xlsx) is a detailed mapping of data values for each feature in alphabetical order.\n",
    "\n",
    "In the below cell, we've provided some initial code to load in the first two datasets. Note for all of the `.csv` data files in this project that they're semicolon (`;`) delimited, so an additional argument in the [`read_csv()`](https://pandas.pydata.org/pandas-docs/stable/generated/pandas.read_csv.html) call has been included to read in the data properly. Also, considering the size of the datasets, it may take some time for them to load completely.\n",
    "\n",
    "You'll notice when the data is loaded in that a warning message will immediately pop up. Before you really start digging into the modeling and analysis, you're going to need to perform some cleaning. Take some time to browse the structure of the data and look over the informational spreadsheets to understand the data values. Make some decisions on which features to keep, which features to drop, and if any revisions need to be made on data formats. It'll be a good idea to create a function with pre-processing steps, since you'll need to clean all of the datasets before you work with them."
   ]
  },
  {
   "cell_type": "code",
   "execution_count": 2,
   "metadata": {},
   "outputs": [
    {
     "name": "stderr",
     "output_type": "stream",
     "text": [
      "C:\\ProgramData\\Anaconda3\\lib\\site-packages\\IPython\\core\\interactiveshell.py:3049: DtypeWarning: Columns (18,19) have mixed types. Specify dtype option on import or set low_memory=False.\n",
      "  interactivity=interactivity, compiler=compiler, result=result)\n"
     ]
    }
   ],
   "source": [
    "# load in the azdias data\n",
    "azdias = pd.read_csv('./data/Udacity_AZDIAS_052018.csv', sep=';')\n",
    "# customers = pd.read_csv('./data/Udacity_CUSTOMERS_052018.csv', sep=';')"
   ]
  },
  {
   "cell_type": "markdown",
   "metadata": {},
   "source": [
    "## Part 1: Customer Segmentation Report\n",
    "\n",
    "The main bulk of your analysis will come in this part of the project. Here, you should use unsupervised learning techniques to describe the relationship between the demographics of the company's existing customers and the general population of Germany. By the end of this part, you should be able to describe parts of the general population that are more likely to be part of the mail-order company's main customer base, and which parts of the general population are less so."
   ]
  },
  {
   "cell_type": "markdown",
   "metadata": {},
   "source": [
    "### Clean Azdias dataset"
   ]
  },
  {
   "cell_type": "markdown",
   "metadata": {},
   "source": [
    "\n",
    "- justify row drop with seaborn distplot\n",
    "- drop similar columns - pca\n",
    "\n",
    "\n",
    "\n",
    "- perform some exploratory analysis\n",
    "\n",
    "\n",
    "- create clean function\n",
    "\n",
    "\n",
    "- explore pca, shap, etc\n",
    "- explore kmeans and 3 others\n",
    "- understand sse\n",
    "- "
   ]
  },
  {
   "cell_type": "code",
   "execution_count": 3,
   "metadata": {},
   "outputs": [
    {
     "data": {
      "text/html": [
       "<div>\n",
       "<style scoped>\n",
       "    .dataframe tbody tr th:only-of-type {\n",
       "        vertical-align: middle;\n",
       "    }\n",
       "\n",
       "    .dataframe tbody tr th {\n",
       "        vertical-align: top;\n",
       "    }\n",
       "\n",
       "    .dataframe thead th {\n",
       "        text-align: right;\n",
       "    }\n",
       "</style>\n",
       "<table border=\"1\" class=\"dataframe\">\n",
       "  <thead>\n",
       "    <tr style=\"text-align: right;\">\n",
       "      <th></th>\n",
       "      <th>LNR</th>\n",
       "      <th>AGER_TYP</th>\n",
       "      <th>AKT_DAT_KL</th>\n",
       "      <th>ALTER_HH</th>\n",
       "      <th>ALTER_KIND1</th>\n",
       "      <th>ALTER_KIND2</th>\n",
       "      <th>ALTER_KIND3</th>\n",
       "      <th>ALTER_KIND4</th>\n",
       "      <th>ALTERSKATEGORIE_FEIN</th>\n",
       "      <th>ANZ_HAUSHALTE_AKTIV</th>\n",
       "      <th>...</th>\n",
       "      <th>VHN</th>\n",
       "      <th>VK_DHT4A</th>\n",
       "      <th>VK_DISTANZ</th>\n",
       "      <th>VK_ZG11</th>\n",
       "      <th>W_KEIT_KIND_HH</th>\n",
       "      <th>WOHNDAUER_2008</th>\n",
       "      <th>WOHNLAGE</th>\n",
       "      <th>ZABEOTYP</th>\n",
       "      <th>ANREDE_KZ</th>\n",
       "      <th>ALTERSKATEGORIE_GROB</th>\n",
       "    </tr>\n",
       "  </thead>\n",
       "  <tbody>\n",
       "    <tr>\n",
       "      <th>0</th>\n",
       "      <td>910215</td>\n",
       "      <td>-1</td>\n",
       "      <td>NaN</td>\n",
       "      <td>NaN</td>\n",
       "      <td>NaN</td>\n",
       "      <td>NaN</td>\n",
       "      <td>NaN</td>\n",
       "      <td>NaN</td>\n",
       "      <td>NaN</td>\n",
       "      <td>NaN</td>\n",
       "      <td>...</td>\n",
       "      <td>NaN</td>\n",
       "      <td>NaN</td>\n",
       "      <td>NaN</td>\n",
       "      <td>NaN</td>\n",
       "      <td>NaN</td>\n",
       "      <td>NaN</td>\n",
       "      <td>NaN</td>\n",
       "      <td>3</td>\n",
       "      <td>1</td>\n",
       "      <td>2</td>\n",
       "    </tr>\n",
       "    <tr>\n",
       "      <th>1</th>\n",
       "      <td>910220</td>\n",
       "      <td>-1</td>\n",
       "      <td>9.0</td>\n",
       "      <td>0.0</td>\n",
       "      <td>NaN</td>\n",
       "      <td>NaN</td>\n",
       "      <td>NaN</td>\n",
       "      <td>NaN</td>\n",
       "      <td>21.0</td>\n",
       "      <td>11.0</td>\n",
       "      <td>...</td>\n",
       "      <td>4.0</td>\n",
       "      <td>8.0</td>\n",
       "      <td>11.0</td>\n",
       "      <td>10.0</td>\n",
       "      <td>3.0</td>\n",
       "      <td>9.0</td>\n",
       "      <td>4.0</td>\n",
       "      <td>5</td>\n",
       "      <td>2</td>\n",
       "      <td>1</td>\n",
       "    </tr>\n",
       "    <tr>\n",
       "      <th>2</th>\n",
       "      <td>910225</td>\n",
       "      <td>-1</td>\n",
       "      <td>9.0</td>\n",
       "      <td>17.0</td>\n",
       "      <td>NaN</td>\n",
       "      <td>NaN</td>\n",
       "      <td>NaN</td>\n",
       "      <td>NaN</td>\n",
       "      <td>17.0</td>\n",
       "      <td>10.0</td>\n",
       "      <td>...</td>\n",
       "      <td>2.0</td>\n",
       "      <td>9.0</td>\n",
       "      <td>9.0</td>\n",
       "      <td>6.0</td>\n",
       "      <td>3.0</td>\n",
       "      <td>9.0</td>\n",
       "      <td>2.0</td>\n",
       "      <td>5</td>\n",
       "      <td>2</td>\n",
       "      <td>3</td>\n",
       "    </tr>\n",
       "    <tr>\n",
       "      <th>3</th>\n",
       "      <td>910226</td>\n",
       "      <td>2</td>\n",
       "      <td>1.0</td>\n",
       "      <td>13.0</td>\n",
       "      <td>NaN</td>\n",
       "      <td>NaN</td>\n",
       "      <td>NaN</td>\n",
       "      <td>NaN</td>\n",
       "      <td>13.0</td>\n",
       "      <td>1.0</td>\n",
       "      <td>...</td>\n",
       "      <td>0.0</td>\n",
       "      <td>7.0</td>\n",
       "      <td>10.0</td>\n",
       "      <td>11.0</td>\n",
       "      <td>NaN</td>\n",
       "      <td>9.0</td>\n",
       "      <td>7.0</td>\n",
       "      <td>3</td>\n",
       "      <td>2</td>\n",
       "      <td>4</td>\n",
       "    </tr>\n",
       "    <tr>\n",
       "      <th>4</th>\n",
       "      <td>910241</td>\n",
       "      <td>-1</td>\n",
       "      <td>1.0</td>\n",
       "      <td>20.0</td>\n",
       "      <td>NaN</td>\n",
       "      <td>NaN</td>\n",
       "      <td>NaN</td>\n",
       "      <td>NaN</td>\n",
       "      <td>14.0</td>\n",
       "      <td>3.0</td>\n",
       "      <td>...</td>\n",
       "      <td>2.0</td>\n",
       "      <td>3.0</td>\n",
       "      <td>5.0</td>\n",
       "      <td>4.0</td>\n",
       "      <td>2.0</td>\n",
       "      <td>9.0</td>\n",
       "      <td>3.0</td>\n",
       "      <td>4</td>\n",
       "      <td>1</td>\n",
       "      <td>3</td>\n",
       "    </tr>\n",
       "  </tbody>\n",
       "</table>\n",
       "<p>5 rows × 366 columns</p>\n",
       "</div>"
      ],
      "text/plain": [
       "      LNR  AGER_TYP  AKT_DAT_KL  ALTER_HH  ALTER_KIND1  ALTER_KIND2  \\\n",
       "0  910215        -1         NaN       NaN          NaN          NaN   \n",
       "1  910220        -1         9.0       0.0          NaN          NaN   \n",
       "2  910225        -1         9.0      17.0          NaN          NaN   \n",
       "3  910226         2         1.0      13.0          NaN          NaN   \n",
       "4  910241        -1         1.0      20.0          NaN          NaN   \n",
       "\n",
       "   ALTER_KIND3  ALTER_KIND4  ALTERSKATEGORIE_FEIN  ANZ_HAUSHALTE_AKTIV  ...  \\\n",
       "0          NaN          NaN                   NaN                  NaN  ...   \n",
       "1          NaN          NaN                  21.0                 11.0  ...   \n",
       "2          NaN          NaN                  17.0                 10.0  ...   \n",
       "3          NaN          NaN                  13.0                  1.0  ...   \n",
       "4          NaN          NaN                  14.0                  3.0  ...   \n",
       "\n",
       "   VHN  VK_DHT4A  VK_DISTANZ  VK_ZG11  W_KEIT_KIND_HH  WOHNDAUER_2008  \\\n",
       "0  NaN       NaN         NaN      NaN             NaN             NaN   \n",
       "1  4.0       8.0        11.0     10.0             3.0             9.0   \n",
       "2  2.0       9.0         9.0      6.0             3.0             9.0   \n",
       "3  0.0       7.0        10.0     11.0             NaN             9.0   \n",
       "4  2.0       3.0         5.0      4.0             2.0             9.0   \n",
       "\n",
       "   WOHNLAGE ZABEOTYP ANREDE_KZ ALTERSKATEGORIE_GROB  \n",
       "0       NaN        3         1                    2  \n",
       "1       4.0        5         2                    1  \n",
       "2       2.0        5         2                    3  \n",
       "3       7.0        3         2                    4  \n",
       "4       3.0        4         1                    3  \n",
       "\n",
       "[5 rows x 366 columns]"
      ]
     },
     "execution_count": 3,
     "metadata": {},
     "output_type": "execute_result"
    }
   ],
   "source": [
    "# view azdias dataset\n",
    "azdias.head()"
   ]
  },
  {
   "cell_type": "code",
   "execution_count": 4,
   "metadata": {},
   "outputs": [
    {
     "name": "stdout",
     "output_type": "stream",
     "text": [
      "There are 891221 rows and 366 columns in the AZDIAS dataset\n"
     ]
    }
   ],
   "source": [
    "print(\"There are {} rows and {} columns in the AZDIAS dataset\".format(azdias.shape[0], azdias.shape[1]))"
   ]
  },
  {
   "cell_type": "code",
   "execution_count": 5,
   "metadata": {},
   "outputs": [
    {
     "name": "stdout",
     "output_type": "stream",
     "text": [
      "<class 'pandas.core.frame.DataFrame'>\n",
      "RangeIndex: 891221 entries, 0 to 891220\n",
      "Columns: 366 entries, LNR to ALTERSKATEGORIE_GROB\n",
      "dtypes: float64(267), int64(93), object(6)\n",
      "memory usage: 2.4+ GB\n"
     ]
    }
   ],
   "source": [
    "# get some basic info from data\n",
    "azdias.info()"
   ]
  },
  {
   "cell_type": "code",
   "execution_count": 6,
   "metadata": {},
   "outputs": [
    {
     "data": {
      "text/plain": [
       "LNR                             int64\n",
       "AGER_TYP                        int64\n",
       "AKT_DAT_KL                    float64\n",
       "ALTER_HH                      float64\n",
       "ALTER_KIND1                   float64\n",
       "ALTER_KIND2                   float64\n",
       "ALTER_KIND3                   float64\n",
       "ALTER_KIND4                   float64\n",
       "ALTERSKATEGORIE_FEIN          float64\n",
       "ANZ_HAUSHALTE_AKTIV           float64\n",
       "ANZ_HH_TITEL                  float64\n",
       "ANZ_KINDER                    float64\n",
       "ANZ_PERSONEN                  float64\n",
       "ANZ_STATISTISCHE_HAUSHALTE    float64\n",
       "ANZ_TITEL                     float64\n",
       "ARBEIT                        float64\n",
       "BALLRAUM                      float64\n",
       "CAMEO_DEU_2015                 object\n",
       "CAMEO_DEUG_2015                object\n",
       "CAMEO_INTL_2015                object\n",
       "CJT_GESAMTTYP                 float64\n",
       "CJT_KATALOGNUTZER             float64\n",
       "CJT_TYP_1                     float64\n",
       "CJT_TYP_2                     float64\n",
       "CJT_TYP_3                     float64\n",
       "CJT_TYP_4                     float64\n",
       "CJT_TYP_5                     float64\n",
       "CJT_TYP_6                     float64\n",
       "D19_BANKEN_ANZ_12               int64\n",
       "D19_BANKEN_ANZ_24               int64\n",
       "                               ...   \n",
       "SEMIO_KRIT                      int64\n",
       "SEMIO_KULT                      int64\n",
       "SEMIO_LUST                      int64\n",
       "SEMIO_MAT                       int64\n",
       "SEMIO_PFLICHT                   int64\n",
       "SEMIO_RAT                       int64\n",
       "SEMIO_REL                       int64\n",
       "SEMIO_SOZ                       int64\n",
       "SEMIO_TRADV                     int64\n",
       "SEMIO_VERT                      int64\n",
       "SHOPPER_TYP                     int64\n",
       "SOHO_KZ                       float64\n",
       "STRUKTURTYP                   float64\n",
       "TITEL_KZ                      float64\n",
       "UMFELD_ALT                    float64\n",
       "UMFELD_JUNG                   float64\n",
       "UNGLEICHENN_FLAG              float64\n",
       "VERDICHTUNGSRAUM              float64\n",
       "VERS_TYP                        int64\n",
       "VHA                           float64\n",
       "VHN                           float64\n",
       "VK_DHT4A                      float64\n",
       "VK_DISTANZ                    float64\n",
       "VK_ZG11                       float64\n",
       "W_KEIT_KIND_HH                float64\n",
       "WOHNDAUER_2008                float64\n",
       "WOHNLAGE                      float64\n",
       "ZABEOTYP                        int64\n",
       "ANREDE_KZ                       int64\n",
       "ALTERSKATEGORIE_GROB            int64\n",
       "Length: 366, dtype: object"
      ]
     },
     "execution_count": 6,
     "metadata": {},
     "output_type": "execute_result"
    }
   ],
   "source": [
    "# print dtypes of each column\n",
    "azdias.dtypes"
   ]
  },
  {
   "cell_type": "code",
   "execution_count": 7,
   "metadata": {},
   "outputs": [],
   "source": [
    "# get a copy of azdias\n",
    "azdias_df = azdias.copy()"
   ]
  },
  {
   "cell_type": "code",
   "execution_count": 8,
   "metadata": {},
   "outputs": [
    {
     "data": {
      "text/plain": [
       "Index(['ALTER_KIND1', 'ALTER_KIND2', 'ALTER_KIND3', 'ALTER_KIND4', 'EXTSEL992',\n",
       "       'KK_KUNDENTYP'],\n",
       "      dtype='object')"
      ]
     },
     "execution_count": 8,
     "metadata": {},
     "output_type": "execute_result"
    }
   ],
   "source": [
    "# pre-encoding unknowns, get columns with percentage of na greater than 30%\n",
    "azdias_df.columns[azdias_df.isna().mean() > 0.30]"
   ]
  },
  {
   "cell_type": "code",
   "execution_count": 9,
   "metadata": {},
   "outputs": [
    {
     "data": {
      "text/plain": [
       "Int64Index([     0,     11,     14,     15,     17,     20,     23,     24,\n",
       "                26,     30,\n",
       "            ...\n",
       "            891154, 891159, 891164, 891170, 891171, 891172, 891173, 891175,\n",
       "            891185, 891187],\n",
       "           dtype='int64', length=105805)"
      ]
     },
     "execution_count": 9,
     "metadata": {},
     "output_type": "execute_result"
    }
   ],
   "source": [
    "# pre-encoding unknowns, get rows with the percentage of na greater than 30%\n",
    "azdias_df.index[azdias_df.isna().mean(axis=1) > 0.30]"
   ]
  },
  {
   "cell_type": "code",
   "execution_count": 10,
   "metadata": {},
   "outputs": [],
   "source": [
    "# replace XX, -1, and X with np.nan in azdias_df\n",
    "azdias_df = azdias_df.replace([\"XX\", \"X\", -1], np.nan)"
   ]
  },
  {
   "cell_type": "code",
   "execution_count": 11,
   "metadata": {},
   "outputs": [],
   "source": [
    "# There are some unknowns encoded as 0, 10 and 9\n",
    "unknown_10 = [\"D19_BANKEN_DATUM\", \"D19_BANKEN_OFFLINE_DATUM\", \"D19_BANKEN_ONLINE_DATUM\", \"D19_GESAMT_DATUM\", \n",
    "              \"D19_GESAMT_ONLINE_DATUM\", \"D19_TELKO_DATUM\", \"D19_TELKO_OFFLINE_DATUM\", \"D19_TELKO_ONLINE_DATUM\", \n",
    "              \"D19_VERSAND_DATUM\", \"D19_VERSAND_OFFLINE_DATUM\", \"D19_VERSAND_ONLINE_DATUM\"]\n",
    "\n",
    "unknown_9 = [\"ALTERSKATEGORIE_GROB\", \"KBA05_ALTER1\", \"KBA05_ALTER2\", \"KBA05_ALTER3\", \"KBA05_ALTER4\", \"KBA05_ANHANG\", \n",
    "             \"KBA05_AUTOQUOT\", \"KBA05_CCM1\", \"KBA05_CCM2\", \"KBA05_CCM3\", \"KBA05_CCM4\", \"KBA05_DIESEL\", \"KBA05_FRAU\", \n",
    "             \"KBA05_HERST1\", \"KBA05_HERST2\", \"KBA05_HERST3\", \"KBA05_HERST4\", \"KBA05_HERST5\", \"KBA05_HERSTTEMP\", \n",
    "             \"KBA05_KRSAQUOT\", \"KBA05_KRSHERST1\", \"KBA05_KRSHERST2\", \"KBA05_KRSHERST3\", \"KBA05_KRSKLEIN\", \"KBA05_KRSOBER\", \n",
    "             \"KBA05_KRSVAN\", \"KBA05_KRSZUL\", \"KBA05_KW1\", \"KBA05_KW2\", \"KBA05_KW3\", \"KBA05_MAXAH\", \"KBA05_MAXBJ\", \n",
    "             \"KBA05_MAXHERST\", \"KBA05_MAXSEG\", \"KBA05_MAXVORB\", \"KBA05_MOD1\", \"KBA05_MOD2\", \"KBA05_MOD3\", \"KBA05_MOD4\", \n",
    "             \"KBA05_MOD8\", \"KBA05_MODTEMP\", \"KBA05_MOTOR\", \"KBA05_MOTRAD\", \"KBA05_SEG1\", \"KBA05_SEG10\", \"KBA05_SEG2\", \n",
    "             \"KBA05_SEG3\", \"KBA05_SEG4\", \"KBA05_SEG5\", \"KBA05_SEG6\", \"KBA05_SEG7\", \"KBA05_SEG8\", \"KBA05_SEG9\", \"KBA05_VORB0\", \n",
    "             \"KBA05_VORB1\", \"KBA05_VORB2\", \"KBA05_ZUL1\", \"KBA05_ZUL2\", \"KBA05_ZUL3\", \"KBA05_ZUL4\", \"RELAT_AB\", \"SEMIO_DOM\", \n",
    "             \"SEMIO_ERL\", \"SEMIO_FAM\", \"SEMIO_KAEM\", \"SEMIO_KRIT\", \"SEMIO_KULT\", \"SEMIO_LUST\", \"SEMIO_MAT\", \"SEMIO_PFLICHT\", \n",
    "             \"SEMIO_RAT\", \"SEMIO_REL\", \"SEMIO_SOZ\", \"SEMIO_TRADV\", \"SEMIO_VERT\", \"ZABEOTYP\"]\n",
    "\n",
    "unknown_0 = [\"AGER_TYP\", \"ALTERSKATEGORIE_GROB\", \"ALTER_HH\", \"ANREDE_KZ\", \"CJT_GESAMTTYP\", \"D19_BANKEN_ANZ_12\", \n",
    "             \"D19_BANKEN_ANZ_24\", \"D19_BANKEN_DIREKT\", \"D19_BANKEN_GROSS\", \"D19_BANKEN_LOKAL\", \"D19_BANKEN_GROSS\", \n",
    "             \"D19_BANKEN_ONLINE_QUOTE_12\", \"D19_BANKEN_REST\", \"D19_BEKLEIDUNG_GEH\", \"D19_BEKLEIDUNG_REST\", \"D19_BILDUNG\", \n",
    "             \"D19_BIO_OEKO\", \"D19_BUCH_CD\", \"D19_DIGIT_SERV\", \"D19_DROGERIEARTIKEL\", \"D19_ENERGIE\", \"D19_FREIZEIT\", \n",
    "             \"D19_GARTEN\", \"D19_GESAMT_ANZ_12\", \"D19_GESAMT_ANZ_24\", \"D19_GESAMT_ONLINE_QUOTE_12\", \"D19_HANDWERK\", \n",
    "             \"D19_HAUS_DEKO\", \"D19_KINDERARTIKEL\", \"D19_KOSMETIK\", \"D19_LEBENSMITTEL\", \"D19_LOTTO\", \"D19_NAHRUNGSERGAENZUNG\", \n",
    "             \"D19_RATGEBER\", \"D19_REISEN\", \"D19_SAMMELARTIKEL\", \"D19_SCHUHE\", \"D19_SONSTIGE\", \"D19_TECHNIK\", \"D19_TELKO_ANZ_12\",\n",
    "             \"D19_TELKO_ANZ_24\", \"D19_TELKO_MOBILE\", \"D19_TELKO_REST\", \"D19_TIERARTIKEL\", \"D19_VERSAND_ANZ_12\", \n",
    "             \"D19_VERSAND_ANZ_24\", \"D19_VERSAND_ONLINE_QUOTE_12\", \"D19_VERSAND_REST\", \"D19_VERSICHERUNGEN\", \"D19_VERSI_ANZ_12\", \n",
    "             \"D19_VERSI_ANZ_24\", \"D19_VOLLSORTIMENT\", \"D19_WEIN_FEINKOST\", \"GEBAEUDETYP\", \"HH_EINKOMMEN_SCORE\", \"KBA05_BAUMAX\", \n",
    "             \"KBA05_GBZ\", \"KKK\", \"NATIONALITAET_KZ\", \"PRAEGENDE_JUGENDJAHRE\", \"REGIOTYP\", \"RETOURTYP_BK_S\", \"TITEL_KZ\", \n",
    "             \"WOHNDAUER_2008\", \"W_KEIT_KIND_HH\", \"MIN_GEBAEUDEJAHR\", \"GEBURTSJAHR\", \"EINGEZOGENAM_HH_JAHR\"]"
   ]
  },
  {
   "cell_type": "code",
   "execution_count": 12,
   "metadata": {},
   "outputs": [
    {
     "name": "stdout",
     "output_type": "stream",
     "text": [
      "\n",
      "Done replacing all 10's with NANs in applicable columns\n",
      "\n",
      "Done replacing all 9's with NANs in applicable columns\n",
      "\n",
      "Done replacing all 0's with NANs in applicable columns\n"
     ]
    }
   ],
   "source": [
    "# replace unknowns\n",
    "unknowns = [[unknown_10, 10], [unknown_9, 9], [unknown_0, 0]]\n",
    "for unknown in unknowns:\n",
    "    for col in unknown[0]:\n",
    "        azdias_df[col] = azdias_df[col].replace(unknown[1], np.nan)\n",
    "    print(\"\\nDone replacing all {}'s with NANs in applicable columns\".format(unknown[1]))"
   ]
  },
  {
   "cell_type": "code",
   "execution_count": 13,
   "metadata": {},
   "outputs": [
    {
     "data": {
      "text/plain": [
       "Index(['AGER_TYP', 'ALTER_HH', 'ALTER_KIND1', 'ALTER_KIND2', 'ALTER_KIND3',\n",
       "       'ALTER_KIND4', 'D19_BANKEN_ANZ_12', 'D19_BANKEN_ANZ_24',\n",
       "       'D19_BANKEN_DATUM', 'D19_BANKEN_DIREKT', 'D19_BANKEN_GROSS',\n",
       "       'D19_BANKEN_LOKAL', 'D19_BANKEN_OFFLINE_DATUM',\n",
       "       'D19_BANKEN_ONLINE_DATUM', 'D19_BANKEN_ONLINE_QUOTE_12',\n",
       "       'D19_BANKEN_REST', 'D19_BEKLEIDUNG_GEH', 'D19_BEKLEIDUNG_REST',\n",
       "       'D19_BILDUNG', 'D19_BIO_OEKO', 'D19_BUCH_CD', 'D19_DIGIT_SERV',\n",
       "       'D19_DROGERIEARTIKEL', 'D19_ENERGIE', 'D19_FREIZEIT', 'D19_GARTEN',\n",
       "       'D19_GESAMT_ANZ_12', 'D19_GESAMT_ANZ_24', 'D19_GESAMT_DATUM',\n",
       "       'D19_GESAMT_ONLINE_DATUM', 'D19_GESAMT_ONLINE_QUOTE_12', 'D19_HANDWERK',\n",
       "       'D19_HAUS_DEKO', 'D19_KINDERARTIKEL', 'D19_KOSMETIK',\n",
       "       'D19_LEBENSMITTEL', 'D19_LOTTO', 'D19_NAHRUNGSERGAENZUNG',\n",
       "       'D19_RATGEBER', 'D19_REISEN', 'D19_SAMMELARTIKEL', 'D19_SCHUHE',\n",
       "       'D19_SONSTIGE', 'D19_TECHNIK', 'D19_TELKO_ANZ_12', 'D19_TELKO_ANZ_24',\n",
       "       'D19_TELKO_DATUM', 'D19_TELKO_MOBILE', 'D19_TELKO_OFFLINE_DATUM',\n",
       "       'D19_TELKO_ONLINE_DATUM', 'D19_TELKO_REST', 'D19_TIERARTIKEL',\n",
       "       'D19_VERSAND_ANZ_12', 'D19_VERSAND_ANZ_24', 'D19_VERSAND_DATUM',\n",
       "       'D19_VERSAND_OFFLINE_DATUM', 'D19_VERSAND_ONLINE_DATUM',\n",
       "       'D19_VERSAND_ONLINE_QUOTE_12', 'D19_VERSAND_REST', 'D19_VERSI_ANZ_12',\n",
       "       'D19_VERSI_ANZ_24', 'D19_VERSICHERUNGEN', 'D19_VOLLSORTIMENT',\n",
       "       'D19_WEIN_FEINKOST', 'EXTSEL992', 'GEBURTSJAHR', 'KBA05_BAUMAX',\n",
       "       'KK_KUNDENTYP', 'TITEL_KZ'],\n",
       "      dtype='object')"
      ]
     },
     "execution_count": 13,
     "metadata": {},
     "output_type": "execute_result"
    }
   ],
   "source": [
    "# post-encoding unknowns, get columns with percentage of na greater than 30%\n",
    "azdias_df.columns[azdias_df.isna().mean() > 0.30]"
   ]
  },
  {
   "cell_type": "code",
   "execution_count": 14,
   "metadata": {},
   "outputs": [
    {
     "data": {
      "text/plain": [
       "Int64Index([     0,     11,     13,     14,     15,     17,     20,     23,\n",
       "                24,     26,\n",
       "            ...\n",
       "            891164, 891169, 891170, 891171, 891172, 891173, 891175, 891185,\n",
       "            891187, 891203],\n",
       "           dtype='int64', length=141931)"
      ]
     },
     "execution_count": 14,
     "metadata": {},
     "output_type": "execute_result"
    }
   ],
   "source": [
    "# post-encoding unknowns, get rows with percentage of na greater than 30%\n",
    "azdias_df.index[azdias_df.isna().mean(axis=1) > 0.30]"
   ]
  },
  {
   "cell_type": "code",
   "execution_count": 15,
   "metadata": {},
   "outputs": [],
   "source": [
    "# rows with more than 30% na\n",
    "azdias_row_na = azdias_df[azdias_df.isna().mean(axis=1) >= 0.30]"
   ]
  },
  {
   "cell_type": "code",
   "execution_count": 16,
   "metadata": {},
   "outputs": [],
   "source": [
    "# rows with lass than 30% na\n",
    "azdias_df = azdias_df[azdias_df.isna().mean(axis=1) < 0.30]"
   ]
  },
  {
   "cell_type": "code",
   "execution_count": 27,
   "metadata": {},
   "outputs": [],
   "source": [
    "# plot justification for row drop\n",
    "# plot any 5 columns and compare distribution\n",
    "column_plot = [\"ALTERSKATEGORIE_GROB\", \"ANREDE_KZ\", \"NATIONALITAET_KZ\", \"ZABEOTYP\", \"SEMIO_SOZ\"]\n",
    "df_plot = [azdias_row_na, azdias_df]\n",
    "df_label = [\"azdias_na\", \"azdias\"]"
   ]
  },
  {
   "cell_type": "code",
   "execution_count": 29,
   "metadata": {},
   "outputs": [
    {
     "data": {
      "image/png": "[encoded data removed]",
      "text/plain": [
       "<Figure size 864x1800 with 10 Axes>"
      ]
     },
     "metadata": {
      "needs_background": "light"
     },
     "output_type": "display_data"
    }
   ],
   "source": [
    "# plot distribution\n",
    "fig, axes = plt.subplots(nrows=5, ncols=2, figsize=(12, 25))\n",
    "for i, col in enumerate(column_plot):\n",
    "    for j, df in enumerate(df_plot):\n",
    "        axes[i, j].hist(df[col])\n",
    "        axes[i, j].set_title(\"{}[{}]\".format(df_label[j], column_plot[i]))\n",
    "        \n",
    "plt.tight_layout\n",
    "plt.show();"
   ]
  },
  {
   "cell_type": "code",
   "execution_count": 30,
   "metadata": {},
   "outputs": [
    {
     "name": "stdout",
     "output_type": "stream",
     "text": [
      "There are now 749290 rows and 366 columns left in the AZDIAS dataset\n"
     ]
    }
   ],
   "source": [
    "# get dataset shape\n",
    "print(\"There are now {} rows and {} columns left in the AZDIAS dataset\".format(azdias_df.shape[0], azdias_df.shape[1]))"
   ]
  },
  {
   "cell_type": "code",
   "execution_count": 31,
   "metadata": {},
   "outputs": [],
   "source": [
    "# columns with more than 30% na\n",
    "azdias_col_na = azdias_df[azdias_df.columns[azdias_df.isna().mean() >= 0.30]]"
   ]
  },
  {
   "cell_type": "code",
   "execution_count": 32,
   "metadata": {},
   "outputs": [],
   "source": [
    "# keep columns with less than 30% na\n",
    "azdias_df = azdias_df[azdias_df.columns[azdias_df.isna().mean() < 0.30]]"
   ]
  },
  {
   "cell_type": "code",
   "execution_count": 33,
   "metadata": {},
   "outputs": [
    {
     "name": "stdout",
     "output_type": "stream",
     "text": [
      "There are now 749290 rows and 298 columns left in the AZDIAS dataset\n"
     ]
    }
   ],
   "source": [
    "# get dataset shape\n",
    "print(\"There are now {} rows and {} columns left in the AZDIAS dataset\".format(azdias_df.shape[0], azdias_df.shape[1]))"
   ]
  },
  {
   "cell_type": "code",
   "execution_count": 34,
   "metadata": {},
   "outputs": [],
   "source": [
    "# find the column with dtype object\n",
    "obj_col = azdias_df.select_dtypes(include=\"object\").columns"
   ]
  },
  {
   "cell_type": "code",
   "execution_count": 35,
   "metadata": {},
   "outputs": [
    {
     "name": "stdout",
     "output_type": "stream",
     "text": [
      "\n",
      " CAMEO_DEU_2015  :  ['8A' '4C' '2A' '6B' '8C' '4A' '2D' '1A' '1E' '9D' '7A' '5D' '9E' '5C'\n",
      " '9B' '1B' '8B' '3D' nan '4E' '4B' '3C' '5A' '7B' '9A' '6E' '6D' '2C' '7C'\n",
      " '9C' '7D' '5E' '1D' '8D' '6C' '6A' '5B' '4D' '3A' '2B' '7E' '3B' '6F'\n",
      " '5F' '1C']\n",
      "\n",
      " CAMEO_DEUG_2015  :  [8.0 4.0 2.0 6.0 1.0 9.0 7.0 5.0 3.0 nan '3' '7' '2' '4' '9' '6' '8' '5'\n",
      " '1']\n",
      "\n",
      " CAMEO_INTL_2015  :  [51.0 24.0 12.0 43.0 54.0 22.0 14.0 13.0 15.0 41.0 34.0 55.0 33.0 25.0 nan\n",
      " 23.0 31.0 52.0 45.0 35.0 44.0 32.0 '24' '41' '12' '51' '44' '35' '23'\n",
      " '25' '14' '34' '52' '55' '31' '32' '22' '15' '13' '43' '45' '33' '54']\n",
      "\n",
      " D19_LETZTER_KAUF_BRANCHE  :  [nan 'D19_UNBEKANNT' 'D19_SCHUHE' 'D19_ENERGIE' 'D19_KOSMETIK'\n",
      " 'D19_SONSTIGE' 'D19_BANKEN_GROSS' 'D19_VOLLSORTIMENT'\n",
      " 'D19_DROGERIEARTIKEL' 'D19_HANDWERK' 'D19_BUCH_CD' 'D19_VERSICHERUNGEN'\n",
      " 'D19_VERSAND_REST' 'D19_TELKO_REST' 'D19_BANKEN_DIREKT' 'D19_BANKEN_REST'\n",
      " 'D19_FREIZEIT' 'D19_LEBENSMITTEL' 'D19_HAUS_DEKO' 'D19_BEKLEIDUNG_REST'\n",
      " 'D19_SAMMELARTIKEL' 'D19_TELKO_MOBILE' 'D19_REISEN' 'D19_BEKLEIDUNG_GEH'\n",
      " 'D19_TECHNIK' 'D19_NAHRUNGSERGAENZUNG' 'D19_DIGIT_SERV' 'D19_LOTTO'\n",
      " 'D19_RATGEBER' 'D19_TIERARTIKEL' 'D19_KINDERARTIKEL' 'D19_BIO_OEKO'\n",
      " 'D19_WEIN_FEINKOST' 'D19_GARTEN' 'D19_BILDUNG' 'D19_BANKEN_LOKAL']\n",
      "\n",
      " EINGEFUEGT_AM  :  ['1992-02-10 00:00:00' '1992-02-12 00:00:00' '1997-04-21 00:00:00' ...\n",
      " '2010-01-28 00:00:00' '2005-03-19 00:00:00' '2007-04-02 00:00:00']\n",
      "\n",
      " OST_WEST_KZ  :  ['W' 'O']\n"
     ]
    }
   ],
   "source": [
    "# loop through each obj_col and print out the unique values\n",
    "for col in obj_col:\n",
    "    print(\"\\n\", col, \" : \", azdias_df[col].unique())"
   ]
  },
  {
   "cell_type": "code",
   "execution_count": 49,
   "metadata": {},
   "outputs": [
    {
     "name": "stderr",
     "output_type": "stream",
     "text": [
      "C:\\ProgramData\\Anaconda3\\lib\\site-packages\\ipykernel_launcher.py:3: SettingWithCopyWarning: \n",
      "A value is trying to be set on a copy of a slice from a DataFrame.\n",
      "Try using .loc[row_indexer,col_indexer] = value instead\n",
      "\n",
      "See the caveats in the documentation: http://pandas.pydata.org/pandas-docs/stable/indexing.html#indexing-view-versus-copy\n",
      "  This is separate from the ipykernel package so we can avoid doing imports until\n",
      "C:\\ProgramData\\Anaconda3\\lib\\site-packages\\ipykernel_launcher.py:4: SettingWithCopyWarning: \n",
      "A value is trying to be set on a copy of a slice from a DataFrame.\n",
      "Try using .loc[row_indexer,col_indexer] = value instead\n",
      "\n",
      "See the caveats in the documentation: http://pandas.pydata.org/pandas-docs/stable/indexing.html#indexing-view-versus-copy\n",
      "  after removing the cwd from sys.path.\n",
      "C:\\ProgramData\\Anaconda3\\lib\\site-packages\\ipykernel_launcher.py:5: SettingWithCopyWarning: \n",
      "A value is trying to be set on a copy of a slice from a DataFrame.\n",
      "Try using .loc[row_indexer,col_indexer] = value instead\n",
      "\n",
      "See the caveats in the documentation: http://pandas.pydata.org/pandas-docs/stable/indexing.html#indexing-view-versus-copy\n",
      "  \"\"\"\n"
     ]
    }
   ],
   "source": [
    "# split EINGEFUEGT_AM into year, month and day\n",
    "date = pd.to_datetime(azdias_df[\"EINGEFUEGT_AM\"])\n",
    "azdias_df[\"EINGEFUEGT_AM_Year\"] = date.dt.year.astype(int)\n",
    "azdias_df[\"EINGEFUEGT_AM_Month\"] = date.dt.month.astype(int)\n",
    "azdias_df[\"EINGEFUEGT_AM_Day\"] = date.dt.day.astype(int)"
   ]
  },
  {
   "cell_type": "code",
   "execution_count": 36,
   "metadata": {},
   "outputs": [
    {
     "name": "stderr",
     "output_type": "stream",
     "text": [
      "C:\\ProgramData\\Anaconda3\\lib\\site-packages\\ipykernel_launcher.py:2: SettingWithCopyWarning: \n",
      "A value is trying to be set on a copy of a slice from a DataFrame.\n",
      "Try using .loc[row_indexer,col_indexer] = value instead\n",
      "\n",
      "See the caveats in the documentation: http://pandas.pydata.org/pandas-docs/stable/indexing.html#indexing-view-versus-copy\n",
      "  \n"
     ]
    }
   ],
   "source": [
    "# keep only the first digit of CAMEO_INTL_2015 as float\n",
    "azdias_df[\"CAMEO_INTL_2015\"] = azdias_df[\"CAMEO_INTL_2015\"].astype(float) // 10"
   ]
  },
  {
   "cell_type": "code",
   "execution_count": 38,
   "metadata": {},
   "outputs": [
    {
     "name": "stderr",
     "output_type": "stream",
     "text": [
      "C:\\ProgramData\\Anaconda3\\lib\\site-packages\\ipykernel_launcher.py:2: SettingWithCopyWarning: \n",
      "A value is trying to be set on a copy of a slice from a DataFrame.\n",
      "Try using .loc[row_indexer,col_indexer] = value instead\n",
      "\n",
      "See the caveats in the documentation: http://pandas.pydata.org/pandas-docs/stable/indexing.html#indexing-view-versus-copy\n",
      "  \n"
     ]
    }
   ],
   "source": [
    "# encode OST_WEST_KZ\n",
    "azdias_df[\"OST_WEST_KZ\"] = azdias_df[\"OST_WEST_KZ\"].map({\"W\": 0, \"O\": 1}, na_action=\"ignore\")"
   ]
  },
  {
   "cell_type": "code",
   "execution_count": 37,
   "metadata": {},
   "outputs": [
    {
     "name": "stderr",
     "output_type": "stream",
     "text": [
      "C:\\ProgramData\\Anaconda3\\lib\\site-packages\\pandas\\core\\frame.py:3940: SettingWithCopyWarning: \n",
      "A value is trying to be set on a copy of a slice from a DataFrame\n",
      "\n",
      "See the caveats in the documentation: http://pandas.pydata.org/pandas-docs/stable/indexing.html#indexing-view-versus-copy\n",
      "  errors=errors)\n"
     ]
    }
   ],
   "source": [
    "# drop CAMEO_DEU_2015 and CAMEO_DEUG_2015 as the same information is in CAMEO_INTL_2015\n",
    "# drop LP_FAMILIE_FEIN as same information is contained in LP_FAMILIE_GROB\n",
    "# drop LP_LEBENSPHASE_FEIN as same information is contained in LP_LEBENSPHASE_GROB\n",
    "# drop LP_STATUS_FEIN as same information is contained in LP_STATUS_GROB\n",
    "azdias_df.drop([\"CAMEO_DEU_2015\", \"CAMEO_DEUG_2015\", \"EINGEFUEGT_AM\", \"LP_FAMILIE_FEIN\", \"LP_STATUS_FEIN\", \n",
    "                \"LP_LEBENSPHASE_FEIN\"], axis=1, inplace=True)"
   ]
  },
  {
   "cell_type": "code",
   "execution_count": null,
   "metadata": {},
   "outputs": [],
   "source": [
    "# perform some exploratory analysis later\n",
    "azdias_df2 = azdias_df.copy()\n",
    "azdias_df2.to_csv(\"./data/azdias_to_plot.csv\")"
   ]
  },
  {
   "cell_type": "code",
   "execution_count": null,
   "metadata": {},
   "outputs": [],
   "source": [
    "# To Do\n",
    "# some graphics"
   ]
  },
  {
   "cell_type": "code",
   "execution_count": null,
   "metadata": {},
   "outputs": [],
   "source": []
  },
  {
   "cell_type": "code",
   "execution_count": null,
   "metadata": {},
   "outputs": [],
   "source": []
  },
  {
   "cell_type": "code",
   "execution_count": null,
   "metadata": {},
   "outputs": [],
   "source": []
  },
  {
   "cell_type": "code",
   "execution_count": null,
   "metadata": {},
   "outputs": [],
   "source": []
  },
  {
   "cell_type": "code",
   "execution_count": null,
   "metadata": {},
   "outputs": [],
   "source": [
    "# categorical columns to encode\n",
    "cat_encode = [\"ARBEIT\", \"D19_KONSUMTYP\", \"GFK_URLAUBERTYP\", \"HEALTH_TYP\", \"KBA05_MAXHERST\", \"LP_FAMILIE_GROB\", \"LP_STATUS_GROB\", \"LP_LEBENSPHASE_GROB\", \n",
    "              \"NATIONALITAET_KZ\", \"RETOURTYP_BK_S\", \"ZABEOTYP\", \"D19_LETZTER_KAUF_BRANCHE\"]"
   ]
  },
  {
   "cell_type": "code",
   "execution_count": null,
   "metadata": {},
   "outputs": [],
   "source": [
    "# encode dummy columns\n",
    "azdias_df = pd.get_dummies(data=azdias_df, columns=cat_encode)"
   ]
  },
  {
   "cell_type": "code",
   "execution_count": null,
   "metadata": {},
   "outputs": [],
   "source": [
    "# create cleaning pipeline\n",
    "pipeline = Pipeline([(\"imputer\", IterativeImputer(random_state=42)), \n",
    "                     (\"scaler\", StandardScaler())])"
   ]
  },
  {
   "cell_type": "code",
   "execution_count": null,
   "metadata": {},
   "outputs": [],
   "source": [
    "# fix NA using the Iterative Imputer\n",
    "imp = IterativeImputer(random_state=42)"
   ]
  },
  {
   "cell_type": "code",
   "execution_count": null,
   "metadata": {},
   "outputs": [],
   "source": [
    "pipeline = Pipeline([\n",
    "        (\"features\", FeatureUnion([\n",
    "            (\"text_pipeline\", Pipeline([\n",
    "                (\"count_vect\", CountVectorizer(tokenizer=tokenize)),\n",
    "                (\"tfidf_vect\", TfidfTransformer()),\n",
    "            ])),\n",
    "            (\"starting_verb\", StartingVerbExtractor())\n",
    "        ])),\n",
    "        (\"clf\", MultiOutputClassifier(AdaBoostClassifier()))\n",
    "    ])"
   ]
  },
  {
   "cell_type": "code",
   "execution_count": null,
   "metadata": {},
   "outputs": [],
   "source": [
    "cleaned_data = pipeline.fit_transform(azdias_df)"
   ]
  },
  {
   "cell_type": "code",
   "execution_count": null,
   "metadata": {},
   "outputs": [],
   "source": [
    "cleaned_date.to_"
   ]
  },
  {
   "cell_type": "code",
   "execution_count": null,
   "metadata": {},
   "outputs": [],
   "source": [
    "# save cleaned and graphic data\n"
   ]
  },
  {
   "cell_type": "code",
   "execution_count": null,
   "metadata": {},
   "outputs": [],
   "source": [
    "# function to clean data"
   ]
  },
  {
   "cell_type": "code",
   "execution_count": null,
   "metadata": {},
   "outputs": [],
   "source": []
  },
  {
   "cell_type": "code",
   "execution_count": null,
   "metadata": {},
   "outputs": [],
   "source": []
  },
  {
   "cell_type": "code",
   "execution_count": null,
   "metadata": {},
   "outputs": [],
   "source": []
  }
 ],
 "metadata": {
  "kernelspec": {
   "display_name": "Python 3",
   "language": "python",
   "name": "python3"
  },
  "language_info": {
   "codemirror_mode": {
    "name": "ipython",
    "version": 3
   },
   "file_extension": ".py",
   "mimetype": "text/x-python",
   "name": "python",
   "nbconvert_exporter": "python",
   "pygments_lexer": "ipython3",
   "version": "3.7.3"
  }
 },
 "nbformat": 4,
 "nbformat_minor": 2
}
